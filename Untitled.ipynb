{
  "nbformat": 4,
  "nbformat_minor": 0,
  "metadata": {
    "colab": {
      "provenance": [],
      "toc_visible": true
    },
    "kernelspec": {
      "name": "python3",
      "display_name": "Python 3"
    },
    "language_info": {
      "name": "python"
    }
  },
  "cells": [
    {
      "cell_type": "code",
      "execution_count": 1,
      "metadata": {
        "colab": {
          "base_uri": "https://localhost:8080/"
        },
        "id": "TgsK_uNt2nar",
        "outputId": "eeb96a4c-746c-4f8b-bb72-ebd6856533db"
      },
      "outputs": [
        {
          "output_type": "stream",
          "name": "stdout",
          "text": [
            "Mounted at /content/drive\n",
            "Initial data preview:\n",
            "                              Region                Country        Item Type  \\\n",
            "0              Australia and Oceania                 Tuvalu        Baby Food   \n",
            "1  Central America and the Caribbean                Grenada           Cereal   \n",
            "2                             Europe                 Russia  Office Supplies   \n",
            "3                 Sub-Saharan Africa  Sao Tome and Principe           Fruits   \n",
            "4                 Sub-Saharan Africa                 Rwanda  Office Supplies   \n",
            "\n",
            "  Sales Channel Order Priority Order Date   Order ID  Ship Date  Units Sold  \\\n",
            "0       Offline              H  5/28/2010  669165933  6/27/2010        9925   \n",
            "1        Online              C  8/22/2012  963881480  9/15/2012        2804   \n",
            "2       Offline              L   5/2/2014  341417157   5/8/2014        1779   \n",
            "3        Online              C  6/20/2014  514321792   7/5/2014        8102   \n",
            "4       Offline              L   2/1/2013  115456712   2/6/2013        5062   \n",
            "\n",
            "   Unit Price  Unit Cost  Total Revenue  Total Cost  Total Profit  \n",
            "0      255.28     159.42     2533654.00  1582243.50     951410.50  \n",
            "1      205.70     117.11      576782.80   328376.44     248406.36  \n",
            "2      651.21     524.96     1158502.59   933903.84     224598.75  \n",
            "3        9.33       6.92       75591.66    56065.84      19525.82  \n",
            "4      651.21     524.96     3296425.02  2657347.52     639077.50  \n"
          ]
        }
      ],
      "source": [
        "import pandas as pd\n",
        "import numpy as np\n",
        "from google.colab import drive\n",
        "\n",
        "# Mount Google Drive\n",
        "drive.mount('/content/drive')\n",
        "\n",
        "# Load the dataset\n",
        "file_path = '/content/Amazon Sales data.csv'  # Update the path to your dataset\n",
        "data = pd.read_csv(file_path)\n",
        "\n",
        "# Display the first few rows of the dataset\n",
        "print(\"Initial data preview:\")\n",
        "print(data.head())\n"
      ]
    },
    {
      "cell_type": "code",
      "source": [
        "# Verify column names\n",
        "print(\"Columns in the dataset:\")\n",
        "print(data.columns)\n",
        "\n",
        "# Display a sample of the data to identify the correct sales column\n",
        "print(\"Sample data:\")\n",
        "print(data.head())\n"
      ],
      "metadata": {
        "colab": {
          "base_uri": "https://localhost:8080/"
        },
        "id": "bWzIyYRD3Bg4",
        "outputId": "942ef634-895f-4037-f16f-0f92fb4c42cb"
      },
      "execution_count": 2,
      "outputs": [
        {
          "output_type": "stream",
          "name": "stdout",
          "text": [
            "Columns in the dataset:\n",
            "Index(['Region', 'Country', 'Item Type', 'Sales Channel', 'Order Priority',\n",
            "       'Order Date', 'Order ID', 'Ship Date', 'Units Sold', 'Unit Price',\n",
            "       'Unit Cost', 'Total Revenue', 'Total Cost', 'Total Profit'],\n",
            "      dtype='object')\n",
            "Sample data:\n",
            "                              Region                Country        Item Type  \\\n",
            "0              Australia and Oceania                 Tuvalu        Baby Food   \n",
            "1  Central America and the Caribbean                Grenada           Cereal   \n",
            "2                             Europe                 Russia  Office Supplies   \n",
            "3                 Sub-Saharan Africa  Sao Tome and Principe           Fruits   \n",
            "4                 Sub-Saharan Africa                 Rwanda  Office Supplies   \n",
            "\n",
            "  Sales Channel Order Priority Order Date   Order ID  Ship Date  Units Sold  \\\n",
            "0       Offline              H  5/28/2010  669165933  6/27/2010        9925   \n",
            "1        Online              C  8/22/2012  963881480  9/15/2012        2804   \n",
            "2       Offline              L   5/2/2014  341417157   5/8/2014        1779   \n",
            "3        Online              C  6/20/2014  514321792   7/5/2014        8102   \n",
            "4       Offline              L   2/1/2013  115456712   2/6/2013        5062   \n",
            "\n",
            "   Unit Price  Unit Cost  Total Revenue  Total Cost  Total Profit  \n",
            "0      255.28     159.42     2533654.00  1582243.50     951410.50  \n",
            "1      205.70     117.11      576782.80   328376.44     248406.36  \n",
            "2      651.21     524.96     1158502.59   933903.84     224598.75  \n",
            "3        9.33       6.92       75591.66    56065.84      19525.82  \n",
            "4      651.21     524.96     3296425.02  2657347.52     639077.50  \n"
          ]
        }
      ]
    },
    {
      "cell_type": "code",
      "source": [
        "# Input the correct column name for sales data\n",
        "sales_column_name = 'Total Revenue'\n",
        "print(f\"Using '{sales_column_name}' as the sales column.\")\n"
      ],
      "metadata": {
        "colab": {
          "base_uri": "https://localhost:8080/"
        },
        "id": "a5rqxjE63E7M",
        "outputId": "793e8cc2-98bd-48b1-e483-49a916103eb0"
      },
      "execution_count": 3,
      "outputs": [
        {
          "output_type": "stream",
          "name": "stdout",
          "text": [
            "Using 'Total Revenue' as the sales column.\n"
          ]
        }
      ]
    },
    {
      "cell_type": "code",
      "source": [
        "import pandas as pd\n",
        "\n",
        "# Add columns for 'Order Month' and 'Order Year'\n",
        "data['Order Date'] = pd.to_datetime(data['Order Date'])\n",
        "data['Order Month'] = data['Order Date'].dt.month\n",
        "data['Order Year'] = data['Order Date'].dt.year\n",
        "\n",
        "# Verify that the new columns have been added\n",
        "print(\"Columns in the dataset after adding 'Order Month' and 'Order Year':\")\n",
        "print(data.columns)\n",
        "\n",
        "# Display a sample of the data to verify the new columns\n",
        "print(\"Sample data after adding 'Order Month' and 'Order Year':\")\n",
        "print(data.head())\n"
      ],
      "metadata": {
        "colab": {
          "base_uri": "https://localhost:8080/"
        },
        "id": "Vjgoo_QL4Yul",
        "outputId": "2d6489d9-d8aa-4204-b16e-8b61f0e437da"
      },
      "execution_count": 5,
      "outputs": [
        {
          "output_type": "stream",
          "name": "stdout",
          "text": [
            "Columns in the dataset after adding 'Order Month' and 'Order Year':\n",
            "Index(['Region', 'Country', 'Item Type', 'Sales Channel', 'Order Priority',\n",
            "       'Order Date', 'Order ID', 'Ship Date', 'Units Sold', 'Unit Price',\n",
            "       'Unit Cost', 'Total Revenue', 'Total Cost', 'Total Profit',\n",
            "       'Order Month', 'Order Year'],\n",
            "      dtype='object')\n",
            "Sample data after adding 'Order Month' and 'Order Year':\n",
            "                              Region                Country        Item Type  \\\n",
            "0              Australia and Oceania                 Tuvalu        Baby Food   \n",
            "1  Central America and the Caribbean                Grenada           Cereal   \n",
            "2                             Europe                 Russia  Office Supplies   \n",
            "3                 Sub-Saharan Africa  Sao Tome and Principe           Fruits   \n",
            "4                 Sub-Saharan Africa                 Rwanda  Office Supplies   \n",
            "\n",
            "  Sales Channel Order Priority Order Date   Order ID  Ship Date  Units Sold  \\\n",
            "0       Offline              H 2010-05-28  669165933  6/27/2010        9925   \n",
            "1        Online              C 2012-08-22  963881480  9/15/2012        2804   \n",
            "2       Offline              L 2014-05-02  341417157   5/8/2014        1779   \n",
            "3        Online              C 2014-06-20  514321792   7/5/2014        8102   \n",
            "4       Offline              L 2013-02-01  115456712   2/6/2013        5062   \n",
            "\n",
            "   Unit Price  Unit Cost  Total Revenue  Total Cost  Total Profit  \\\n",
            "0      255.28     159.42     2533654.00  1582243.50     951410.50   \n",
            "1      205.70     117.11      576782.80   328376.44     248406.36   \n",
            "2      651.21     524.96     1158502.59   933903.84     224598.75   \n",
            "3        9.33       6.92       75591.66    56065.84      19525.82   \n",
            "4      651.21     524.96     3296425.02  2657347.52     639077.50   \n",
            "\n",
            "   Order Month  Order Year  \n",
            "0            5        2010  \n",
            "1            8        2012  \n",
            "2            5        2014  \n",
            "3            6        2014  \n",
            "4            2        2013  \n"
          ]
        }
      ]
    },
    {
      "cell_type": "code",
      "source": [
        "# Input the correct column name for sales data\n",
        "sales_column_name = 'Total Revenue'\n",
        "print(f\"Using '{sales_column_name}' as the sales column.\")\n",
        "\n",
        "# Sales trend analysis\n",
        "if sales_column_name in data.columns:\n",
        "    # Month-wise sales trend\n",
        "    month_wise_sales = data.groupby('Order Month')[sales_column_name].sum().reset_index()\n",
        "\n",
        "    # Year-wise sales trend\n",
        "    year_wise_sales = data.groupby('Order Year')[sales_column_name].sum().reset_index()\n",
        "\n",
        "    # Yearly month-wise sales trend\n",
        "    year_month_wise_sales = data.groupby(['Order Year', 'Order Month'])[sales_column_name].sum().reset_index()\n",
        "\n",
        "    # Display the results\n",
        "    print(\"Month-wise sales trend:\")\n",
        "    print(month_wise_sales.head())\n",
        "\n",
        "    print(\"Year-wise sales trend:\")\n",
        "    print(year_wise_sales.head())\n",
        "\n",
        "    print(\"Yearly month-wise sales trend:\")\n",
        "    print(year_month_wise_sales.head())\n",
        "\n",
        "    # Key metrics and relationships\n",
        "    sales_by_category = data.groupby('Item Type')[sales_column_name].sum().reset_index()\n",
        "    profit_by_region = data.groupby('Region')['Total Profit'].sum().reset_index()\n",
        "    sales_profit_by_subcategory = data.groupby('Item Type').agg({sales_column_name: 'sum', 'Total Profit': 'sum'}).reset_index()\n",
        "\n",
        "    # Display the results\n",
        "    print(\"Sales by Category:\")\n",
        "    print(sales_by_category.head())\n",
        "\n",
        "    print(\"Profit by Region:\")\n",
        "    print(profit_by_region.head())\n",
        "\n",
        "    print(\"Sales and Profit by Item Type:\")\n",
        "    print(sales_profit_by_subcategory.head())\n",
        "\n",
        "    # Save transformed data\n",
        "    output_file_path = '/content/drive/My Drive/transformed_amazon_sales_data.csv'\n",
        "    data.to_csv(output_file_path, index=False)\n",
        "    print(f\"Transformed data saved to {output_file_path}\")\n",
        "else:\n",
        "    print(f\"Column '{sales_column_name}' not found in the dataset. Please check the column name and try again.\")\n"
      ],
      "metadata": {
        "colab": {
          "base_uri": "https://localhost:8080/"
        },
        "id": "AuGTxOmB4dJj",
        "outputId": "0a217665-9a5f-4dad-8de1-4e622803e38f"
      },
      "execution_count": 6,
      "outputs": [
        {
          "output_type": "stream",
          "name": "stdout",
          "text": [
            "Using 'Total Revenue' as the sales column.\n",
            "Month-wise sales trend:\n",
            "   Order Month  Total Revenue\n",
            "0            1    10482467.12\n",
            "1            2    24740517.77\n",
            "2            3     2274823.87\n",
            "3            4    16187186.33\n",
            "4            5    13215739.99\n",
            "Year-wise sales trend:\n",
            "   Order Year  Total Revenue\n",
            "0        2010    19186024.92\n",
            "1        2011    11129166.07\n",
            "2        2012    31898644.52\n",
            "3        2013    20330448.66\n",
            "4        2014    16630214.43\n",
            "Yearly month-wise sales trend:\n",
            "   Order Year  Order Month  Total Revenue\n",
            "0        2010            2     3410661.12\n",
            "1        2010            5     2587973.26\n",
            "2        2010            6     1082418.40\n",
            "3        2010           10     6064933.75\n",
            "4        2010           11     3458252.00\n",
            "Sales by Category:\n",
            "   Item Type  Total Revenue\n",
            "0  Baby Food     10350327.6\n",
            "1  Beverages      2690794.6\n",
            "2     Cereal      5322898.9\n",
            "3    Clothes      7787292.8\n",
            "4  Cosmetics     36601509.6\n",
            "Profit by Region:\n",
            "                              Region  Total Profit\n",
            "0                               Asia    6113845.87\n",
            "1              Australia and Oceania    4722160.03\n",
            "2  Central America and the Caribbean    2846907.85\n",
            "3                             Europe   11082938.63\n",
            "4       Middle East and North Africa    5761191.86\n",
            "Sales and Profit by Item Type:\n",
            "   Item Type  Total Revenue  Total Profit\n",
            "0  Baby Food     10350327.6    3886643.70\n",
            "1  Beverages      2690794.6     888047.28\n",
            "2     Cereal      5322898.9    2292443.43\n",
            "3    Clothes      7787292.8    5233334.40\n",
            "4  Cosmetics     36601509.6   14556048.66\n",
            "Transformed data saved to /content/drive/My Drive/transformed_amazon_sales_data.csv\n"
          ]
        }
      ]
    },
    {
      "cell_type": "code",
      "source": [],
      "metadata": {
        "id": "dm6cDCqi4huu"
      },
      "execution_count": null,
      "outputs": []
    }
  ]
}